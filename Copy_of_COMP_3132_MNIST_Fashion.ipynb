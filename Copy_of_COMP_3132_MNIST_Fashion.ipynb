{
  "nbformat": 4,
  "nbformat_minor": 0,
  "metadata": {
    "colab": {
      "provenance": [],
      "gpuType": "T4",
      "include_colab_link": true
    },
    "kernelspec": {
      "name": "python3",
      "display_name": "Python 3"
    },
    "language_info": {
      "name": "python"
    },
    "accelerator": "GPU"
  },
  "cells": [
    {
      "cell_type": "markdown",
      "metadata": {
        "id": "view-in-github",
        "colab_type": "text"
      },
      "source": [
        "<a href=\"https://colab.research.google.com/github/AnEdgyVeggie/COMP3132_Assignment1/blob/main/Copy_of_COMP_3132_MNIST_Fashion.ipynb\" target=\"_parent\"><img src=\"https://colab.research.google.com/assets/colab-badge.svg\" alt=\"Open In Colab\"/></a>"
      ]
    },
    {
      "cell_type": "code",
      "execution_count": 1,
      "metadata": {
        "id": "XH1Lfs9_Z3-7"
      },
      "outputs": [],
      "source": [
        "##### REMEMBER TO CHANGE RUNTIME TYPE TO GPU\n",
        "# Ethan Sylvester | 101479568\n",
        "# COMP 3132 Assignment 1\n",
        "# January 28, 2025\n",
        "\n",
        "import numpy as np\n",
        "import pandas as pd\n",
        "import seaborn as sns\n",
        "import matplotlib.pyplot as plt\n",
        "import tensorflow as tf\n",
        "from tensorflow import keras\n",
        "# Question 10 ==============================================================\n",
        "from tensorflow.keras import layers\n",
        "from tensorflow.keras.datasets import fashion_mnist\n"
      ]
    },
    {
      "cell_type": "code",
      "source": [
        "(train_imgs, train_labels), (test_imgs, test_labels) = fashion_mnist.load_data()\n",
        "\n",
        "fashion_class_dict = {\n",
        "  0:\t\"T-shirt/top\",\n",
        "  1:\t\"Trouser\",\n",
        "  2:\t\"Pullover\",\n",
        "  3:\t\"Dress\",\n",
        "  4:\t\"Coat\",\n",
        "  5:\t\"Sandal\",\n",
        "  6:\t\"Shirt\",\n",
        "  7:\t\"Sneaker\",\n",
        "  8:\t\"Bag\",\n",
        "  9:\t\"Ankle boot\"\n",
        "  }"
      ],
      "metadata": {
        "id": "5HOfmcWca657",
        "colab": {
          "base_uri": "https://localhost:8080/"
        },
        "outputId": "df606ed0-9056-485d-bf29-cc5a518b886f"
      },
      "execution_count": 2,
      "outputs": [
        {
          "output_type": "stream",
          "name": "stdout",
          "text": [
            "Downloading data from https://storage.googleapis.com/tensorflow/tf-keras-datasets/train-labels-idx1-ubyte.gz\n",
            "\u001b[1m29515/29515\u001b[0m \u001b[32m━━━━━━━━━━━━━━━━━━━━\u001b[0m\u001b[37m\u001b[0m \u001b[1m0s\u001b[0m 0us/step\n",
            "Downloading data from https://storage.googleapis.com/tensorflow/tf-keras-datasets/train-images-idx3-ubyte.gz\n",
            "\u001b[1m26421880/26421880\u001b[0m \u001b[32m━━━━━━━━━━━━━━━━━━━━\u001b[0m\u001b[37m\u001b[0m \u001b[1m0s\u001b[0m 0us/step\n",
            "Downloading data from https://storage.googleapis.com/tensorflow/tf-keras-datasets/t10k-labels-idx1-ubyte.gz\n",
            "\u001b[1m5148/5148\u001b[0m \u001b[32m━━━━━━━━━━━━━━━━━━━━\u001b[0m\u001b[37m\u001b[0m \u001b[1m0s\u001b[0m 0us/step\n",
            "Downloading data from https://storage.googleapis.com/tensorflow/tf-keras-datasets/t10k-images-idx3-ubyte.gz\n",
            "\u001b[1m4422102/4422102\u001b[0m \u001b[32m━━━━━━━━━━━━━━━━━━━━\u001b[0m\u001b[37m\u001b[0m \u001b[1m0s\u001b[0m 0us/step\n"
          ]
        }
      ]
    },
    {
      "cell_type": "code",
      "source": [
        "# Question 1 ==============================================================\n",
        "# Sample Dimensions\n",
        "print(f\"Training Images Dimensions: {train_imgs.ndim}\")\n",
        "print(f\"Training Labels Dimensions: {train_labels.ndim}\")\n",
        "print(f\"Testing Images Dimensions:  {test_imgs.ndim}\")\n",
        "print(f\"Testing Labels Dimensions:  {test_labels.ndim}\")"
      ],
      "metadata": {
        "colab": {
          "base_uri": "https://localhost:8080/"
        },
        "id": "w9NI_VGubGxy",
        "outputId": "f246b356-9b61-4eac-87ac-c558acb63158"
      },
      "execution_count": 3,
      "outputs": [
        {
          "output_type": "stream",
          "name": "stdout",
          "text": [
            "Training Images Dimensions: 3\n",
            "Training Labels Dimensions: 1\n",
            "Testing Images Dimensions:  3\n",
            "Testing Labels Dimensions:  1\n"
          ]
        }
      ]
    },
    {
      "cell_type": "code",
      "source": [
        "# Question 2 ==============================================================\n",
        "# Train / Test Label Length\n",
        "print(f\"Training Labels Length: {len(train_labels)}\")\n",
        "print(f\"Testing Labels Length:  {len(test_labels)}\")"
      ],
      "metadata": {
        "colab": {
          "base_uri": "https://localhost:8080/"
        },
        "id": "_QQmm85TbVe1",
        "outputId": "a5e060ac-01d0-4bc0-8687-78c52b59aff9"
      },
      "execution_count": 4,
      "outputs": [
        {
          "output_type": "stream",
          "name": "stdout",
          "text": [
            "Training Labels Length: 60000\n",
            "Testing Labels Length:  10000\n"
          ]
        }
      ]
    },
    {
      "cell_type": "code",
      "source": [
        "# Question 3 ==============================================================\n",
        "# Train / Test Labels\n",
        "for i in range(5):\n",
        "    print(f\"Training Label {i}: {train_labels[i]}\")\n",
        "for i in range(5):\n",
        "    print(f\"Testing Label {i}: {test_labels[i]}\")"
      ],
      "metadata": {
        "colab": {
          "base_uri": "https://localhost:8080/"
        },
        "id": "L3EWSc6accz9",
        "outputId": "fcb5b6c9-72e0-4097-8d1f-a70331f4f30c"
      },
      "execution_count": 5,
      "outputs": [
        {
          "output_type": "stream",
          "name": "stdout",
          "text": [
            "Training Label 0: 9\n",
            "Training Label 1: 0\n",
            "Training Label 2: 0\n",
            "Training Label 3: 3\n",
            "Training Label 4: 0\n",
            "Testing Label 0: 9\n",
            "Testing Label 1: 2\n",
            "Testing Label 2: 1\n",
            "Testing Label 3: 1\n",
            "Testing Label 4: 6\n"
          ]
        }
      ]
    },
    {
      "cell_type": "code",
      "source": [
        "# Question 4 ==============================================================\n",
        "# Digital Content of Image index 5 in Training Dataset\n",
        "print(f\"Training Image 5: {train_imgs[6]}\")"
      ],
      "metadata": {
        "colab": {
          "base_uri": "https://localhost:8080/"
        },
        "id": "gXbHGAygc9Wb",
        "outputId": "df25f7f6-ccc5-4f67-8f6a-b6d1773ff4a3"
      },
      "execution_count": 6,
      "outputs": [
        {
          "output_type": "stream",
          "name": "stdout",
          "text": [
            "Training Image 5: [[  0   0   0   0   0   0   0   0   0   0   0   0   0   0   0   0   0   0\n",
            "    0   0   0   0   0   0   0   0   0   0]\n",
            " [  0   0   0   0   0   0   0   0   0   0   0   0   0   0   0   0   0   0\n",
            "    0   0   0   0   0   0   0   0   0   0]\n",
            " [  0   0   0   0   0   0   0   0   0   0   0   0   0   0   0   0   0   0\n",
            "    0   0   0   0   0   0   0   0   0   0]\n",
            " [  0   0   0   0   0   0   0   0   0   0   0   0   0   0   0   0   0   0\n",
            "    0   0   0   0   0   0   0   0   0   0]\n",
            " [  0   0   0   0   0   0   0   0   0   0   0   0   0   0   0   0   0   0\n",
            "    0   0   0   0   0   0   0   0   0   0]\n",
            " [  0   0   0   0   0   0   0   0   0   0   0   0   0   0   0   0   0   0\n",
            "    0   0   0   0   0   0   0   0   0   0]\n",
            " [  0   0   0   0   0   0   0   0   0   0   0   0   0   0   0   0   0   0\n",
            "    0   0   0   0   0   0   0   0   0   0]\n",
            " [  0   0   0   0   0   0   0   0   0   0   0   0   0   0   0   0   0   0\n",
            "    0   0   0   0   0   0   0   0   0   0]\n",
            " [  0   0   0   0   0   0   0   0   0   1   1   0   3   1   0   4   0   0\n",
            "    0   2   0   0   0   0   5   1   0   0]\n",
            " [  0   0   0   0   0   0   0   0   0   0   0   0   4   0   0   0   0   0\n",
            "  106 229   0   0   0   0   0   0   0   0]\n",
            " [  0   0   0   0   0   0   0   0   0   0   1   0   0   0   0  90 138 223\n",
            "  214 209 167   0   0   0   6 124   0   0]\n",
            " [  0   0   0   0   0   0   0   0   1   0   0   0  37 122 179 249 214 195\n",
            "  181 213 241   0   0   0  94 179   0   0]\n",
            " [  0   0   0   2   0   6   0   0   0   0  16 149 236 226 201 195 200 204\n",
            "  155 209 116   0  22 109 251  35  51   0]\n",
            " [  0   0   1   3   0   0   0   0  67 150 240 221 194 190 204 214 205 195\n",
            "  207 185 206 233 224 179   2  10  22   0]\n",
            " [  0   0   0   0   0   0 110 214 237 209 196 192 215 215 213 213 207 193\n",
            "  186 199 206 175   0   0 124 230 200  36]\n",
            " [  0  50 119 158 166 192 204 198 187 202 203 211 214 204 209 210 204 197\n",
            "  191 190 191 229 230 242 214 193 203 137]\n",
            " [108 190 199 200 194 199 194 195 199 200 189 187 191 189 197 198 205 200\n",
            "  200 208 213 215 212 213 209 202 216 137]\n",
            " [ 15  55 114 157 188 207 216 220 217 219 221 242 240 243 249 253 255 255\n",
            "  243 232 226 222 221 213 215 198 209  62]\n",
            " [ 16  11   0   0   7  40  76 108 134 142 143 145 143 123 111  92  76  61\n",
            "   45  35  25  25  31  32  32  12   1   0]\n",
            " [  0  11  25  26  26  22  12  20  15  15  18  17  19  27  30  36  41  49\n",
            "   57  66  79  84  79  83  93  80  75  45]\n",
            " [  0   0   0   0   0   9  14  17  27  34  39  39  42  44  41  41  43  48\n",
            "   43  30  31  35  40  37  40  37  26   0]\n",
            " [  0   0   0   0   0   0   0   0   0   0   0   0   0   0   0   0   0   0\n",
            "    0   0   0   0   0   0   0   0   0   0]\n",
            " [  0   0   0   0   0   0   0   0   0   0   0   0   0   0   0   0   0   0\n",
            "    0   0   0   0   0   0   0   0   0   0]\n",
            " [  0   0   0   0   0   0   0   0   0   0   0   0   0   0   0   0   0   0\n",
            "    0   0   0   0   0   0   0   0   0   0]\n",
            " [  0   0   0   0   0   0   0   0   0   0   0   0   0   0   0   0   0   0\n",
            "    0   0   0   0   0   0   0   0   0   0]\n",
            " [  0   0   0   0   0   0   0   0   0   0   0   0   0   0   0   0   0   0\n",
            "    0   0   0   0   0   0   0   0   0   0]\n",
            " [  0   0   0   0   0   0   0   0   0   0   0   0   0   0   0   0   0   0\n",
            "    0   0   0   0   0   0   0   0   0   0]\n",
            " [  0   0   0   0   0   0   0   0   0   0   0   0   0   0   0   0   0   0\n",
            "    0   0   0   0   0   0   0   0   0   0]]\n"
          ]
        }
      ]
    },
    {
      "cell_type": "code",
      "source": [
        "# Question 5 ==============================================================\n",
        "# This R2D2 looking image is the pixelated contents of image index 5 in the training\n",
        "plt.figure(figsize=(8,8))\n",
        "plt.imshow(train_imgs[5], cmap='gray')\n",
        "plt.show()"
      ],
      "metadata": {
        "colab": {
          "base_uri": "https://localhost:8080/",
          "height": 676
        },
        "id": "767iYfrNdUUA",
        "outputId": "2127271b-9517-499a-cb8c-034df91d64b1"
      },
      "execution_count": 7,
      "outputs": [
        {
          "output_type": "display_data",
          "data": {
            "text/plain": [
              "<Figure size 800x800 with 1 Axes>"
            ],
            "image/png": "[encoded data removed]"
          },
          "metadata": {}
        }
      ]
    },
    {
      "cell_type": "code",
      "source": [
        "# Question 6 ==============================================================\n",
        "# Image index 5's label:\n",
        "print(train_labels[5])"
      ],
      "metadata": {
        "colab": {
          "base_uri": "https://localhost:8080/"
        },
        "id": "DB_wuqrTdZEY",
        "outputId": "f9020362-10df-4dc9-9474-59476eeafe53"
      },
      "execution_count": 8,
      "outputs": [
        {
          "output_type": "stream",
          "name": "stdout",
          "text": [
            "2\n"
          ]
        }
      ]
    },
    {
      "cell_type": "code",
      "source": [
        "# Image index 5's classification\n",
        "print(fashion_class_dict[train_labels[5]])"
      ],
      "metadata": {
        "colab": {
          "base_uri": "https://localhost:8080/"
        },
        "id": "nKskVMAFeGyj",
        "outputId": "41932e5e-0e30-4753-ed8b-87d605972037"
      },
      "execution_count": 9,
      "outputs": [
        {
          "output_type": "stream",
          "name": "stdout",
          "text": [
            "Pullover\n"
          ]
        }
      ]
    },
    {
      "cell_type": "code",
      "source": [
        "# Question 7 ==============================================================\n",
        "# Image idex 500 of testing data: digital content\n",
        "print(test_imgs[500])"
      ],
      "metadata": {
        "colab": {
          "base_uri": "https://localhost:8080/"
        },
        "id": "FbtQPXhsgEnY",
        "outputId": "79349581-9c22-4c2c-9758-063b399f6d61"
      },
      "execution_count": 10,
      "outputs": [
        {
          "output_type": "stream",
          "name": "stdout",
          "text": [
            "[[  0   0   0   0   0   0   0   0   0   0 108  93  38   0   0   0   8  76\n",
            "  140  34   0   0   0   1   1   0   0   0]\n",
            " [  0   0   0   0   0   0   0  30  92  69 192 183 149 214 177 194 227 154\n",
            "  206 143  79  46   0   0   0   0   0   0]\n",
            " [  0   0   0   0   0   0  59 127 116  85  63 184 128 104   0  10 126 138\n",
            "  145  59 104 118  86   0   0   0   0   0]\n",
            " [  0   0   0   0   0   3  99  92  81  81  54  67 222 255 209 206 178 184\n",
            "   72  69  97  97 118  24   0   2   0   0]\n",
            " [  0   0   1   1   0  60 121 138  83  64  76  68  23  35  55  52  46  36\n",
            "   65  72  72  76 102 110   0   0   0   0]\n",
            " [  0   0   0   0   0 112  89  52  89  72  67  69  81  73  60  71  64  55\n",
            "   52  73  77  88 104 108  10   0   1   0]\n",
            " [  0   0   0   0  21 110 143 131  55 181 128  54  36 158 185  44  74 150\n",
            "  154  71  96  88 105 131  50   0   0   0]\n",
            " [  0   0   2   0  52 139  90  99  77 187 134 238  68 203 127  31 158 165\n",
            "  191  73  95  83  86  91  85   0   0   0]\n",
            " [  0   0   0   0  97 104 119 135  95 137 156 209 158 185  67  91 199 150\n",
            "  218 123  78 106  91 129 106   0   0   0]\n",
            " [  0   0   0   0 109  97 129 109  80 154 183 153 178 170  78 178 228 156\n",
            "  214 135 112  92  91 101 127   4   0   0]\n",
            " [  0   0   0  10 125 102 120 146  99 189 238  76 139 111  63 238 172  48\n",
            "  249  91  79  79 146 110 111  35   0   0]\n",
            " [  0   0   0  32 147  78 156 143  55 165 175  64 142 114  62 152 107  68\n",
            "  213  90 108 155 211  74 143  53   0   0]\n",
            " [  0   0   0  46 127 105 124 246  90  69  74 101 112  79  99 112  81  96\n",
            "  184  97  77 112 172  65 119 100   0   0]\n",
            " [  0   0   0  87 143 107 112 213  70 116 230  83 154 146 150 223  65  93\n",
            "  196 121  89 146 193  92 108 105   0   0]\n",
            " [  0   0   0  97 125 125 124 157  60 119 250  70 180 158 134 177 163 107\n",
            "  225  82  85 167 178  87 123 114   0   0]\n",
            " [  0   0   0 107 102 135 142 117  78 123 229  36 121 129 119 162 223 117\n",
            "  154  88  79 186 164  68 116 129  22   0]\n",
            " [  0   0  14 116 107 133 154 124  71 156 193  85 181  92 121 167 194 185\n",
            "  119  78 101 138 163 105 118 101  27   0]\n",
            " [  0   0  15 117 108 117 180 129  76 117 189 208 211 105 161 187 190 221\n",
            "   97  98 107  93 118 104 124 128  39   0]\n",
            " [  0   0  15 112  96 114 167 115 101  81 181 170 216 154 181 193 176 220\n",
            "   72 107  93 102  97 120 129 111  50   0]\n",
            " [  0   0  23 129 110 121 178  80  85 109  70  63  76 108  92  60  68  65\n",
            "  105  90 116  91 105 102 105 110  40   0]\n",
            " [  0   0  38 119 102 142 158  97 104 100 121 119 107 121 120  89  96 127\n",
            "  101  99 107  95 139 163  98 108  53   0]\n",
            " [  0   0  21 102  97 148  93  80 124  92  97  99 109 131 126 109 107 104\n",
            "   97 104  92 106  76 165 124 129  63   0]\n",
            " [  0   0  39 106 111 130  72 104  85  96  97  96 104 129 116  88  96  99\n",
            "  101  90 116 106  44 147 127 106  42   0]\n",
            " [  0   0  45 131 158  83  51 128  86 101 108 100 110 137 123  91  93 114\n",
            "  102 108 106 117  33 125 137 101  52   0]\n",
            " [  0   0  43  87 123  79  58 116 110  81 105 119 120 140 124 115 125 110\n",
            "   90 110  83 140   8  99 152 117  69   0]\n",
            " [  0   0  49 121 155  51  42 116  95  97  95  93 108 147 117  83  90  89\n",
            "  104  97  93 131   0  67 153  95  57   0]\n",
            " [  0   0  42  93 143  19  49 112  89 101 107  99 104 145 135  97 108 112\n",
            "   96  96  99 128   0  27 152  92  62   0]\n",
            " [  0   0  58  91 143  10  34  88  44  63  72  68  64  71  70  62  69  59\n",
            "   55  77  71 112   0  20 138  89  65   0]]\n"
          ]
        }
      ]
    },
    {
      "cell_type": "code",
      "source": [
        "# Question 8 ==============================================================\n",
        "# Image index 500 of testing dataset: image\n",
        "plt.figure()\n",
        "plt.imshow(test_imgs[500], cmap='gray')\n",
        "plt.show()"
      ],
      "metadata": {
        "colab": {
          "base_uri": "https://localhost:8080/",
          "height": 430
        },
        "id": "a812tlOXfnSp",
        "outputId": "b24135a2-f26e-4bcd-9709-534581e9f54c"
      },
      "execution_count": 11,
      "outputs": [
        {
          "output_type": "display_data",
          "data": {
            "text/plain": [
              "<Figure size 640x480 with 1 Axes>"
            ],
            "image/png": "[encoded data removed]"
          },
          "metadata": {}
        }
      ]
    },
    {
      "cell_type": "code",
      "source": [
        "# Question 9 ==============================================================\n",
        "# Label for image index 500 of testing dataset\n",
        "print(test_labels[500])"
      ],
      "metadata": {
        "colab": {
          "base_uri": "https://localhost:8080/"
        },
        "id": "S8PDXCdjgRBe",
        "outputId": "f6f3c806-3afa-4577-eff9-5e4f49cf4466"
      },
      "execution_count": 12,
      "outputs": [
        {
          "output_type": "stream",
          "name": "stdout",
          "text": [
            "2\n"
          ]
        }
      ]
    },
    {
      "cell_type": "code",
      "source": [
        "# Classification of image index 500 in testing dataset\n",
        "print(fashion_class_dict[test_labels[500]])"
      ],
      "metadata": {
        "colab": {
          "base_uri": "https://localhost:8080/"
        },
        "id": "Rd-iGf5DgW1-",
        "outputId": "676622bb-5129-4c85-d0f7-663aa3054c54"
      },
      "execution_count": 13,
      "outputs": [
        {
          "output_type": "stream",
          "name": "stdout",
          "text": [
            "Pullover\n"
          ]
        }
      ]
    },
    {
      "cell_type": "code",
      "source": [
        "# Question 10 is in the import statements at the top\n",
        "\n",
        "# Question 11 ==============================================================\n",
        "# Define the model\n",
        "my_network = tf.keras.Sequential([\n",
        "\n",
        "    # We use the ReLU function for activation in the first layers because it is\n",
        "    # efficient and performant\n",
        "\n",
        "    # Question 14 ==============================================================\n",
        "    layers.Dense(512, activation='relu'),\n",
        "\n",
        "    # Question 15 ==============================================================\n",
        "    layers.Dense(128, activation='relu'),\n",
        "\n",
        "    # Question 16 ==============================================================\n",
        "    # We use softmax here because it will normalize the output to be between\n",
        "    # 0 and 1, which aligns with the nomalization you see in our next step.\n",
        "    layers.Dense(10, activation='softmax')\n",
        "])\n"
      ],
      "metadata": {
        "id": "mIak1XH0ghVc"
      },
      "execution_count": 14,
      "outputs": []
    },
    {
      "cell_type": "code",
      "source": [
        "# Question 12 ==============================================================\n",
        "# Flatten the training images\n",
        "# Assign the dimensions to variables instead of using hard values, more readable\n",
        "train_imgs_length = len(train_imgs) # 60000 images\n",
        "train_img_resolution_x = train_imgs.shape[1] # 28 pixels\n",
        "train_img_resolution_y = train_imgs.shape[2] # 28 pixels\n",
        "\n",
        "flattened_train_imgs = train_imgs.reshape(\n",
        "    train_imgs_length,\n",
        "    train_img_resolution_x * train_img_resolution_y\n",
        "    )\n",
        "\n",
        "# Question 13 ==============================================================\n",
        "# Normalize data to be between 0 and 1\n",
        "flattened_train_imgs = flattened_train_imgs.astype(\"float32\") / 255.0\n",
        "print(flattened_train_imgs.shape) # new shape is (60000, 784)"
      ],
      "metadata": {
        "id": "9wGAxsNcieEm",
        "colab": {
          "base_uri": "https://localhost:8080/"
        },
        "outputId": "55be6f1b-0bcd-4306-c26d-f49ba93b7d49"
      },
      "execution_count": 15,
      "outputs": [
        {
          "output_type": "stream",
          "name": "stdout",
          "text": [
            "(60000, 784)\n"
          ]
        }
      ]
    },
    {
      "cell_type": "code",
      "source": [
        "# Question 12 ==============================================================\n",
        "# Flatten the testing images\n",
        "test_imgs_length = len(test_imgs) # 10000\n",
        "test_img_resolution_x = test_imgs.shape[1] # 28\n",
        "test_img_resolution_y = test_imgs.shape[2] # 28\n",
        "\n",
        "flattened_test_imgs = test_imgs.reshape(\n",
        "    test_imgs_length,\n",
        "    test_img_resolution_x * test_img_resolution_y\n",
        "    )\n",
        "\n",
        "# Question 13 ==============================================================\n",
        "# Normalize data to be between 0 and 1\n",
        "flattened_test_imgs = flattened_test_imgs.astype(\"float32\") / 255.0\n",
        "print(flattened_test_imgs.shape) # new shape is (10000, 784)"
      ],
      "metadata": {
        "colab": {
          "base_uri": "https://localhost:8080/"
        },
        "id": "Zhg41uU6vD-v",
        "outputId": "90830075-7c46-46fd-c223-74bd127e2015"
      },
      "execution_count": 16,
      "outputs": [
        {
          "output_type": "stream",
          "name": "stdout",
          "text": [
            "(10000, 784)\n"
          ]
        }
      ]
    },
    {
      "cell_type": "code",
      "source": [
        "# Question 17 ==============================================================\n",
        "\n",
        "my_network.compile(optimizer=\"adam\",\n",
        "              loss=\"sparse_categorical_crossentropy\",\n",
        "              metrics=[\"accuracy\"])\n",
        "\n",
        "\n",
        "# Question 18 ==============================================================\n",
        "my_network.fit(flattened_train_imgs, train_labels, epochs=10, batch_size=32)\n",
        "# Batch Size: 256, Epochs: 10 accuracy: 0.9862 - loss: 0.0366 <-- Highest Acc\n",
        "# Batch Size: 128, Epochs: 10 accuracy: 0.9564 - loss: 0.1137 <-- Highest Loss\n",
        "# Batch Size: 64, Epochs: 10  accuracy: 0.9616 - loss: 0.1008 <-- 2nd Highest Acc\n",
        "# Batch Size: 32, Epochs: 10  accuracy: 0.9606 - loss: 0.1044 <-- 2nd Highest Loss\n",
        "\n",
        "\n",
        "# Question 17 ==============================================================\n",
        "\n",
        "# this configuration requires the labels to have one-hot-encoding. I have\n",
        "# imported the OneHotEncoder() from sklearn.preprocessing to help with this\n",
        "from sklearn.preprocessing import OneHotEncoder\n",
        "one_hot = OneHotEncoder()\n",
        "# reshape the data so that it is a 2D array where each label is in its own array\n",
        "# of size 1\n",
        "reshaped_train_lables = train_labels.reshape(-1, 1)\n",
        "one_hot_train_lables = one_hot.fit_transform(reshaped_train_lables).toarray()\n",
        "\n",
        "# my_network.compile(optimizer=\"rmsprop\",\n",
        "#               loss=\"categorical_crossentropy\",\n",
        "#               metrics=[\"accuracy\"])\n",
        "\n",
        "# Question 18 ==============================================================\n",
        "# my_network.fit(flattened_train_imgs, one_hot_train_lables, epochs=10, batch_size=256)\n",
        "# Batch Size: 256, Epochs: 10 accuracy: 0.9706 - loss: 0.0793 <-- worse than the other\n",
        "# Batch Size: 128, Epochs: 10 accuracy: 0.9622 - loss: 0.1074 <-- better than the other\n",
        "# Batch Size: 64, Epochs: 10  accuracy: 0.9504 - loss: 0.1474 <-- worse than the other\n",
        "# Batch Size: 32, Epochs: 10 accuracy: 0.9366 - loss: 0.2007 <-- worse than the other\n",
        "\n",
        "# You can see here that the batch size DOES affect the overall performance,\n",
        "# HOWEVER, its not as simple as bigger batch === better results, and vice versa"
      ],
      "metadata": {
        "colab": {
          "base_uri": "https://localhost:8080/"
        },
        "id": "q3YQMPek0i-7",
        "outputId": "ede89316-b7f2-45ec-ac75-bb3e0ec78d5c"
      },
      "execution_count": 21,
      "outputs": [
        {
          "output_type": "stream",
          "name": "stdout",
          "text": [
            "Epoch 1/10\n",
            "\u001b[1m1875/1875\u001b[0m \u001b[32m━━━━━━━━━━━━━━━━━━━━\u001b[0m\u001b[37m\u001b[0m \u001b[1m5s\u001b[0m 2ms/step - accuracy: 0.9308 - loss: 0.1818\n",
            "Epoch 2/10\n",
            "\u001b[1m1875/1875\u001b[0m \u001b[32m━━━━━━━━━━━━━━━━━━━━\u001b[0m\u001b[37m\u001b[0m \u001b[1m4s\u001b[0m 2ms/step - accuracy: 0.9349 - loss: 0.1717\n",
            "Epoch 3/10\n",
            "\u001b[1m1875/1875\u001b[0m \u001b[32m━━━━━━━━━━━━━━━━━━━━\u001b[0m\u001b[37m\u001b[0m \u001b[1m4s\u001b[0m 2ms/step - accuracy: 0.9349 - loss: 0.1688\n",
            "Epoch 4/10\n",
            "\u001b[1m1875/1875\u001b[0m \u001b[32m━━━━━━━━━━━━━━━━━━━━\u001b[0m\u001b[37m\u001b[0m \u001b[1m6s\u001b[0m 2ms/step - accuracy: 0.9365 - loss: 0.1660\n",
            "Epoch 5/10\n",
            "\u001b[1m1875/1875\u001b[0m \u001b[32m━━━━━━━━━━━━━━━━━━━━\u001b[0m\u001b[37m\u001b[0m \u001b[1m4s\u001b[0m 2ms/step - accuracy: 0.9369 - loss: 0.1624\n",
            "Epoch 6/10\n",
            "\u001b[1m1875/1875\u001b[0m \u001b[32m━━━━━━━━━━━━━━━━━━━━\u001b[0m\u001b[37m\u001b[0m \u001b[1m4s\u001b[0m 2ms/step - accuracy: 0.9386 - loss: 0.1603\n",
            "Epoch 7/10\n",
            "\u001b[1m1875/1875\u001b[0m \u001b[32m━━━━━━━━━━━━━━━━━━━━\u001b[0m\u001b[37m\u001b[0m \u001b[1m5s\u001b[0m 2ms/step - accuracy: 0.9420 - loss: 0.1533\n",
            "Epoch 8/10\n",
            "\u001b[1m1875/1875\u001b[0m \u001b[32m━━━━━━━━━━━━━━━━━━━━\u001b[0m\u001b[37m\u001b[0m \u001b[1m5s\u001b[0m 2ms/step - accuracy: 0.9444 - loss: 0.1475\n",
            "Epoch 9/10\n",
            "\u001b[1m1875/1875\u001b[0m \u001b[32m━━━━━━━━━━━━━━━━━━━━\u001b[0m\u001b[37m\u001b[0m \u001b[1m5s\u001b[0m 2ms/step - accuracy: 0.9450 - loss: 0.1460\n",
            "Epoch 10/10\n",
            "\u001b[1m1875/1875\u001b[0m \u001b[32m━━━━━━━━━━━━━━━━━━━━\u001b[0m\u001b[37m\u001b[0m \u001b[1m4s\u001b[0m 2ms/step - accuracy: 0.9451 - loss: 0.1418\n"
          ]
        }
      ]
    },
    {
      "cell_type": "code",
      "source": [
        "# Question 19 ==============================================================\n",
        "# How do I compare fashion MNIST to the MNIST we have learned in class?\n",
        "\n",
        "# The difference, obviously, is largely in the dataset. With MNIST, there is\n",
        "# really not a lot of room for opinion and technicality. Because numbers are\n",
        "# inherently 2-Dimensional and they each take on a very different form\n",
        "# (or in the case of 9 and 6, orientation), classifying a number is very binary\n",
        "# in terms of that number (It either IS a 4, or it ISN'T a 4).\n",
        "# With the fashion_mnist, although the process in training these models\n",
        "# is nearly identical, there is a lot more wiggle room, especially with\n",
        "# classifications like { 0: T-shirt/top and 6: Shirt }"
      ],
      "metadata": {
        "id": "wAOJJgc0113F"
      },
      "execution_count": 18,
      "outputs": []
    },
    {
      "cell_type": "code",
      "source": [
        "# Question 20 ==============================================================\n",
        "# What can we infer from the differences in the accuracy?\n",
        "\n",
        "# We can infer that accuracy is effected by a multitude of variables.\n",
        "# Epochs, batchsize, compilers all play a role in trying to achieve the best\n",
        "# possible accuracy.\n",
        "# When typing this answer, I decided to rerun the fit with the same 10 epochs\n",
        "# and batch_size of 32, as I did in the final example I provided, and was given\n",
        "# a new result:\n",
        "# old: Batch Size: 32, Epochs: 10  accuracy: 0.9606 - loss: 0.1044\n",
        "# new: Batch Size: 32, Epochs: 10  accuracy: 0.9682 - loss: 0.0841\n",
        "#\n",
        "# This implies that random values beyond our knowledge (likely time) also play\n",
        "# a role in this process."
      ],
      "metadata": {
        "id": "oXd-5BjnAVAh"
      },
      "execution_count": 19,
      "outputs": []
    },
    {
      "cell_type": "code",
      "source": [
        "#   COMMENT OUT THE SECOND CONFIG FOR THE COMPILER BEFORE RUNNING THIS CELL\n",
        "# Question 21 ==============================================================\n",
        "\n",
        "test_loss, test_acc = my_network.evaluate(flattened_test_imgs, test_labels)\n",
        "# This model is on the verge of underfitting. A desired accuracy of .9 - .95\n",
        "# wasnt achieved, but it was certainly close."
      ],
      "metadata": {
        "colab": {
          "base_uri": "https://localhost:8080/"
        },
        "id": "woZ8d1g1BZ26",
        "outputId": "5a8708c9-7c6c-4d3a-8006-637003eee693"
      },
      "execution_count": 22,
      "outputs": [
        {
          "output_type": "stream",
          "name": "stdout",
          "text": [
            "\u001b[1m313/313\u001b[0m \u001b[32m━━━━━━━━━━━━━━━━━━━━\u001b[0m\u001b[37m\u001b[0m \u001b[1m1s\u001b[0m 3ms/step - accuracy: 0.8934 - loss: 0.4261\n"
          ]
        }
      ]
    }
  ]
}